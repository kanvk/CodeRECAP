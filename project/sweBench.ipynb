{
 "cells": [
  {
   "cell_type": "code",
   "execution_count": 29,
   "metadata": {},
   "outputs": [],
   "source": [
    "import pandas as pd\n",
    "\n",
    "splits = {'dev': 'data/dev-00000-of-00001.parquet', 'test': 'data/test-00000-of-00001.parquet', 'train': 'data/train-00000-of-00001.parquet'}\n",
    "df = pd.read_parquet(\"hf://datasets/princeton-nlp/SWE-bench/\" + splits[\"dev\"])"
   ]
  },
  {
   "cell_type": "code",
   "execution_count": 30,
   "metadata": {},
   "outputs": [],
   "source": [
    "df['version'] = df['version'].apply(lambda x: f\"version:{x}\")"
   ]
  },
  {
   "cell_type": "code",
   "execution_count": 31,
   "metadata": {},
   "outputs": [],
   "source": [
    "df.to_csv(\"SWE-bench.csv\",index=False)"
   ]
  },
  {
   "cell_type": "code",
   "execution_count": 25,
   "metadata": {},
   "outputs": [],
   "source": [
    "import os\n",
    "\n",
    "# Set environment variables for LangChain\n",
    "os.environ[\"LANGCHAIN_TRACING_V2\"] = \"true\"\n",
    "os.environ[\"LANGCHAIN_ENDPOINT\"] = \"https://api.smith.langchain.com\"\n",
    "os.environ[\"LANGCHAIN_API_KEY\"] = \"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\"\n",
    "os.environ[\"LANGCHAIN_PROJECT\"] = \"pr-worthwhile-good-65\"\n"
   ]
  },
  {
   "cell_type": "code",
   "execution_count": 34,
   "metadata": {},
   "outputs": [],
   "source": [
    "from langsmith.evaluation import evaluate\n",
    "from langsmith import Client\n",
    "\n",
    "\n",
    "\n",
    "# Make sure your token is set as an environment variable\n",
    "client = Client(api_key=os.getenv(\"LANGCHAIN_API_KEY\"))\n",
    "\n",
    "\n",
    "dataset = client.upload_csv(\n",
    "    csv_file=\"SWE-bench.csv\",\n",
    "    input_keys=list(df.columns),\n",
    "    output_keys=[],\n",
    "    name=\"swe-bench-programatic-upload\",\n",
    "    description=\"SWE-bench dataset\",\n",
    "    data_type=\"kv\"\n",
    ")"
   ]
  },
  {
   "cell_type": "code",
   "execution_count": null,
   "metadata": {},
   "outputs": [
    {
     "name": "stdout",
     "output_type": "stream",
     "text": [
      "Dataset uploaded successfully: name='swe-bench-programatic-upload' description='SWE-bench dataset' data_type=<DataType.kv: 'kv'> id=UUID('dfeabf1e-4f30-4bfc-9caf-95363f59d976') created_at=datetime.datetime(2024, 11, 10, 4, 16, 39, 484944, tzinfo=datetime.timezone.utc) modified_at=datetime.datetime(2024, 11, 10, 4, 16, 39, 484944, tzinfo=datetime.timezone.utc) example_count=0 session_count=0 last_session_start_time=None inputs_schema=None outputs_schema=None\n"
     ]
    }
   ],
   "source": [
    "import os\n",
    "import pandas as pd\n",
    "from langsmith import Client\n",
    "from datasets import load_dataset\n",
    "\n",
    "# Define the splits (assuming you are working with local files or Hugging Face datasets)\n",
    "splits = {\n",
    "    'dev': 'data/dev-00000-of-00001.parquet',\n",
    "    'test': 'data/test-00000-of-00001.parquet',\n",
    "    'train': 'data/train-00000-of-00001.parquet'\n",
    "}\n",
    "\n",
    "# Load the dataset using Hugging Face's datasets library\n",
    "dataset = load_dataset(\"princeton-nlp/SWE-bench\", split=\"dev\")\n",
    "\n",
    "# Convert the dataset to a pandas DataFrame\n",
    "df = pd.DataFrame(dataset)\n",
    "\n",
    "# Apply the 'version' column transformation\n",
    "df['version'] = df['version'].apply(lambda x: f\"version:{x}\")\n",
    "\n",
    "# Save the DataFrame as CSV\n",
    "csv_file_path = \"./../SWE-bench.csv\"  # Ensure this is the correct path\n",
    "df.to_csv(csv_file_path, index=False)\n",
    "\n",
    "# Make sure your token is set as an environment variable\n",
    "api_key = os.getenv(\"LANGCHAIN_API_KEY\")\n",
    "if not api_key:\n",
    "    raise ValueError(\"LANGCHAIN_API_KEY environment variable not set\")\n",
    "\n",
    "client = Client(api_key=api_key)\n",
    "\n",
    "# Upload the CSV to LangChain\n",
    "dataset = client.upload_csv(\n",
    "    csv_file=csv_file_path,\n",
    "    input_keys=list(df.columns),  # Use the columns from the dataframe for input keys\n",
    "    output_keys=[],  # If you don't have any output columns, you can leave this empty\n",
    "    name=\"swe-bench-programatic-upload\",\n",
    "    description=\"SWE-bench dataset\",\n",
    "    data_type=\"kv\"\n",
    ")\n",
    "\n",
    "print(\"Dataset uploaded successfully:\", dataset)\n"
   ]
  },
  {
   "cell_type": "code",
   "execution_count": 35,
   "metadata": {},
   "outputs": [
    {
     "name": "stdout",
     "output_type": "stream",
     "text": [
      "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\n",
      "View the evaluation results for experiment: 'dependable-pollution-15' at:\n",
      "https://smith.langchain.com/o/e727f74a-9499-488c-9e1a-e2913f646a9a/datasets/0869101d-71a4-4537-80b5-d26aa962c4cb/compare?selectedSessions=bcc2628c-5abe-4904-afa4-80997ee10c9d\n",
      "\n",
      "\n"
     ]
    },
    {
     "name": "stderr",
     "output_type": "stream",
     "text": [
      "3it [00:00,  9.55it/s]\n"
     ]
    }
   ],
   "source": [
    "from langsmith.evaluation import evaluate\n",
    "from langsmith import Client\n",
    "\n",
    "import os\n",
    "print(os.getenv(\"LANGCHAIN_API_KEY\"))\n",
    "\n",
    "client = Client(api_key=os.getenv(\"LANGCHAIN_API_KEY\"))\n",
    "\n",
    "def predict(inputs: dict):\n",
    "    return {\"instance_id\":inputs['instance_id'],\"model_patch\":\"None\",\"model_name_or_path\":\"test-model\"}\n",
    "\n",
    "result = evaluate(\n",
    "    predict,\n",
    "    data=client.list_examples(dataset_id=\"0869101d-71a4-4537-80b5-d26aa962c4cb\",splits=[\"test\"]),\n",
    ")"
   ]
  }
 ],
 "metadata": {
  "kernelspec": {
   "display_name": ".venv",
   "language": "python",
   "name": "python3"
  },
  "language_info": {
   "codemirror_mode": {
    "name": "ipython",
    "version": 3
   },
   "file_extension": ".py",
   "mimetype": "text/x-python",
   "name": "python",
   "nbconvert_exporter": "python",
   "pygments_lexer": "ipython3",
   "version": "3.12.7"
  }
 },
 "nbformat": 4,
 "nbformat_minor": 2
}
